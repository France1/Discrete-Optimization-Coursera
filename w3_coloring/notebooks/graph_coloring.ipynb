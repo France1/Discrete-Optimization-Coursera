{
 "cells": [
  {
   "cell_type": "markdown",
   "metadata": {},
   "source": [
    "# Graph coloring"
   ]
  },
  {
   "cell_type": "code",
   "execution_count": 2,
   "metadata": {},
   "outputs": [],
   "source": [
    "import numpy as np\n",
    "import os\n",
    "from collections import OrderedDict"
   ]
  },
  {
   "cell_type": "markdown",
   "metadata": {},
   "source": [
    "### Loading data"
   ]
  },
  {
   "cell_type": "code",
   "execution_count": 308,
   "metadata": {},
   "outputs": [
    {
     "name": "stdout",
     "output_type": "stream",
     "text": [
      "num_nodes = 70\n"
     ]
    }
   ],
   "source": [
    "def parse_items(input_data):\n",
    "    \n",
    "    lines = input_data.strip().split('\\n')\n",
    "    items = []\n",
    "    \n",
    "    for i,line in enumerate(lines):\n",
    "        line = line.split()\n",
    "        if i==0: \n",
    "            #1st line is header\n",
    "            num_nodes, num_edges = map(int, line)\n",
    "        else:\n",
    "            items.append(list(map(int, line)))\n",
    "\n",
    "    return num_nodes, num_edges, items\n",
    "\n",
    "data_dir = '../data/'\n",
    "file_name = 'gc_70_7'\n",
    "\n",
    "with open(os.path.join(data_dir, file_name), 'r') as input_data_file:\n",
    "            input_data = input_data_file.read()\n",
    "num_nodes, num_edges, items = parse_items(input_data)\n",
    "print('num_nodes =', num_nodes)\n",
    "# print(items)\n"
   ]
  },
  {
   "cell_type": "markdown",
   "metadata": {},
   "source": [
    "### Welsh-Powell algorithm"
   ]
  },
  {
   "cell_type": "code",
   "execution_count": 233,
   "metadata": {},
   "outputs": [],
   "source": [
    "# testing use case\n",
    "# http://mrsleblancsmath.pbworks.com/w/file/fetch/46119304/vertex%20coloring%20algorithm.pdf\n",
    "# g = {\n",
    "#     0: [1,2],\n",
    "#     1: [0,5,6,7,8],\n",
    "#     2: [0,3],\n",
    "#     3: [2,4,5,7],\n",
    "#     4: [3], \n",
    "#     5: [1,6], \n",
    "#     6: [1,5,7], \n",
    "#     7: [1,6,8,10], \n",
    "#     8: [1,7,9], \n",
    "#     9: [8,10], \n",
    "#     10: [7,9]\n",
    "# }\n",
    "# g = OrderedDict(sorted(g.items(), key= lambda x: len(x[1]), reverse=True))\n"
   ]
  },
  {
   "cell_type": "code",
   "execution_count": 234,
   "metadata": {},
   "outputs": [],
   "source": [
    "def make_ordered_graph(items,num_nodes):\n",
    "\n",
    "    g = {i:set() for i in range(num_nodes)}\n",
    "    for u,v in items:\n",
    "        g[u].add(v)\n",
    "        g[v].add(u)\n",
    "\n",
    "    # sort graph by valence of nodes\n",
    "    g = OrderedDict(sorted(g.items(), key= lambda x: len(x[1]), reverse=True))\n",
    "\n",
    "    return g\n",
    "    \n",
    "def algo_heuristic(g):\n",
    "    # Welsh-Powell algorithm http://mrsleblancsmath.pbworks.com/w/file/fetch/46119304/vertex%20coloring%20algorithm.pdf\n",
    "\n",
    "    colors = [None]*len(g)\n",
    "    color = 0\n",
    "    n_init, _ = g.popitem(last=False)\n",
    "    colors[n_init] = color\n",
    "\n",
    "    while None in colors:\n",
    "        for u, nbrs in g.items():\n",
    "            if colors[u] is None:\n",
    "                nbrs_colors = [colors[v] for v in nbrs]\n",
    "                if color not in nbrs_colors:\n",
    "                    # print(f'assigned {color} to {u}')\n",
    "                    colors[u] = color\n",
    "        color += 1\n",
    "\n",
    "    return colors"
   ]
  },
  {
   "cell_type": "markdown",
   "metadata": {},
   "source": [
    "### Constraint Programming Solver"
   ]
  },
  {
   "cell_type": "code",
   "execution_count": 237,
   "metadata": {},
   "outputs": [],
   "source": [
    "from ortools.sat.python import cp_model\n",
    "# http://www.hakank.org/google_cp_solver/coloring_cp_sat.py\n",
    "# https://www.xiang.dev/cp-sat/"
   ]
  },
  {
   "cell_type": "code",
   "execution_count": 305,
   "metadata": {},
   "outputs": [
    {
     "name": "stdout",
     "output_type": "stream",
     "text": [
      "num_nodes = 250\n"
     ]
    }
   ],
   "source": [
    "data_dir = '../data/'\n",
    "file_name = 'gc_250_9'\n",
    "\n",
    "with open(os.path.join(data_dir, file_name), 'r') as input_data_file:\n",
    "            input_data = input_data_file.read()\n",
    "num_nodes, num_edges, items = parse_items(input_data)\n",
    "print('num_nodes =', num_nodes)\n",
    "# print(edges)"
   ]
  },
  {
   "cell_type": "code",
   "execution_count": 296,
   "metadata": {},
   "outputs": [],
   "source": [
    "def algo_cp(items, num_nodes, target, time_limit=10):\n",
    "\n",
    "    # Creates the solver.\n",
    "    model = cp_model.CpModel()\n",
    "\n",
    "    # Creates the variables.\n",
    "    # colors array\n",
    "    colors = [\n",
    "        model.NewIntVar(0, num_nodes - 1, 'c%i' % i) for i in range(num_nodes)\n",
    "    ]\n",
    "    # max color in array\n",
    "    max_color = model.NewIntVar(0, num_nodes - 1 ,'obj')\n",
    "\n",
    "    # Creates the constraints.\n",
    "    # colors of nodes connected by edges must be different\n",
    "    for u,v in items:\n",
    "        model.Add(colors[u] != colors[v])\n",
    "    # define max_color as the max of values in colors.\n",
    "    model.AddMaxEquality(max_color, colors)\n",
    "    # Symmetry breaking: impose simple precendence rule on values of colors[i]\n",
    "    model.Add(colors[0] == 0)\n",
    "    for i in range(num_nodes):\n",
    "        model.Add(colors[i] <= i+1)\n",
    "\n",
    "    # Minimize objective: model.Minimize(max_color) is too slow so we fix the \n",
    "    # target and solve for feasibility\n",
    "    model.Add(max_color <= target)\n",
    "\n",
    "    # Solve and print out the solution.\n",
    "    solver = cp_model.CpSolver()\n",
    "    # Sets a time limit.\n",
    "    solver.parameters.max_time_in_seconds = time_limit\n",
    "    # Solve the model\n",
    "    solver.Solve(model)\n",
    "    # if solvers run over time limit return None\n",
    "    try:\n",
    "        results = [solver.Value(colors[i]) for i in range(num_nodes)]\n",
    "    except IndexError:\n",
    "        results = None\n",
    "\n",
    "    return results\n",
    "\n"
   ]
  },
  {
   "cell_type": "code",
   "execution_count": 307,
   "metadata": {},
   "outputs": [
    {
     "name": "stdout",
     "output_type": "stream",
     "text": [
      "[0, 2, 3, 1, 4, 1, 5, 8, 9, 10, 7, 5, 6, 0, 15, 14, 14, 18, 19, 11, 12, 16, 23, 17, 23, 25, 21, 28, 22, 18, 10, 8, 25, 2, 29, 19, 32, 37, 31, 26, 4, 33, 24, 44, 37, 38, 41, 45, 45, 34, 50, 2, 20, 51, 48, 22, 49, 32, 19, 57, 56, 46, 50, 62, 53, 60, 42, 59, 65, 43, 52, 70, 26, 69, 60, 68, 9, 61, 38, 74, 43, 66, 83, 79, 74, 7, 42, 77, 61, 34, 86, 58, 75, 47, 44, 0, 70, 60, 59, 79, 93, 87, 78, 82, 82, 35, 72, 54, 17, 85, 29, 93, 48, 68, 11, 81, 55, 3, 89, 8, 76, 38, 25, 91, 69, 84, 30, 92, 53, 58, 73, 80, 71, 64, 4, 36, 36, 87, 5, 46, 67, 13, 64, 15, 75, 14, 39, 94, 90, 90, 73, 88, 15, 47, 3, 40, 27, 94, 93, 92, 91, 90, 85, 89, 88, 87, 86, 85, 84, 83, 82, 81, 80, 79, 78, 77, 76, 75, 74, 73, 72, 71, 70, 69, 68, 67, 66, 65, 55, 64, 63, 62, 61, 60, 59, 58, 57, 56, 55, 54, 53, 52, 51, 50, 49, 48, 47, 46, 45, 44, 43, 42, 41, 40, 39, 38, 37, 36, 35, 34, 33, 32, 31, 30, 29, 1, 28, 27, 30, 26, 24, 22, 21, 20, 17, 16, 20, 86, 63, 92, 13, 12, 72, 6, 27, 43, 39, 14, 7, 6]\n"
     ]
    }
   ],
   "source": [
    "results = algo_cp(items, num_nodes, 94, 600)\n",
    "print(results)"
   ]
  },
  {
   "cell_type": "markdown",
   "metadata": {},
   "source": [
    "### Solution ubmission"
   ]
  },
  {
   "cell_type": "code",
   "execution_count": 304,
   "metadata": {},
   "outputs": [],
   "source": [
    "def solver_submission(input_data):\n",
    "\n",
    "    num_nodes, num_edges, items = parse_items(input_data)\n",
    "\n",
    "    # use heuristic to establish higher bound \n",
    "    g = make_ordered_graph(items,num_nodes)\n",
    "    colors = algo_heuristic(g)\n",
    "\n",
    "    # iteratively improve the results with cp \n",
    "    target = max(colors)\n",
    "    while True:\n",
    "        new_colors = algo_cp(items, num_nodes, target)\n",
    "        if new_colors is not None:\n",
    "            colors = new_colors\n",
    "            target -= 1\n",
    "        else:\n",
    "            break\n",
    "\n",
    "    n_colors = max(colors)+1\n",
    "    optimal_solution = 0\n",
    "\n",
    "    return f'{n_colors } {optimal_solution}\\n{\" \".join(map(str, colors))}'\n",
    "\n",
    "data_dir = '../data/'\n",
    "file_name = 'gc_70_7'\n",
    "\n",
    "with open(os.path.join(data_dir, file_name), 'r') as input_data_file:\n",
    "            input_data = input_data_file.read()\n",
    "with open('solution', 'w') as f:\n",
    "    f.write(solver_submission(input_data))"
   ]
  },
  {
   "cell_type": "code",
   "execution_count": null,
   "metadata": {},
   "outputs": [],
   "source": []
  }
 ],
 "metadata": {
  "interpreter": {
   "hash": "160db3535f28b45a38083beaee6eae7f22fd9984a991fe72b778b9a3fe4ba333"
  },
  "kernelspec": {
   "display_name": "Python 3.6.13 64-bit ('optimization': conda)",
   "language": "python",
   "name": "python3"
  },
  "language_info": {
   "codemirror_mode": {
    "name": "ipython",
    "version": 3
   },
   "file_extension": ".py",
   "mimetype": "text/x-python",
   "name": "python",
   "nbconvert_exporter": "python",
   "pygments_lexer": "ipython3",
   "version": "3.6.13"
  },
  "orig_nbformat": 4
 },
 "nbformat": 4,
 "nbformat_minor": 2
}

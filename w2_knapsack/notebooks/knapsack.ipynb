{
 "cells": [
  {
   "cell_type": "markdown",
   "metadata": {},
   "source": [
    "# Knapsack problem"
   ]
  },
  {
   "cell_type": "code",
   "execution_count": 1,
   "metadata": {},
   "outputs": [],
   "source": [
    "from collections import namedtuple\n",
    "import numpy as np\n",
    "import os\n",
    "import time\n",
    "from natsort import natsorted"
   ]
  },
  {
   "cell_type": "markdown",
   "metadata": {},
   "source": [
    "### Loading data"
   ]
  },
  {
   "cell_type": "code",
   "execution_count": 2,
   "metadata": {},
   "outputs": [
    {
     "name": "stdout",
     "output_type": "stream",
     "text": [
      "capacity = 9\n",
      "[Item(index=0, value=5, weight=4), Item(index=1, value=6, weight=5), Item(index=2, value=3, weight=2)]\n"
     ]
    }
   ],
   "source": [
    "Item = namedtuple(\"Item\", ['index', 'value', 'weight'])\n",
    "\n",
    "def parse_items(input_data):\n",
    "    \n",
    "    lines = input_data.strip().split('\\n')\n",
    "    items = []\n",
    "    \n",
    "    for i,line in enumerate(lines):\n",
    "        line = line.split()\n",
    "        if i==0: \n",
    "            #1st line is header\n",
    "            item_count, capacity = map(int, line)\n",
    "        else:\n",
    "            items.append(Item(i-1, int(line[0]), int(line[1])))\n",
    "\n",
    "    return item_count, capacity, items\n",
    "\n",
    "data_dir = '../data/'\n",
    "file_name = 'ks_lecture_dp_1'\n",
    "\n",
    "with open(os.path.join(data_dir, file_name), 'r') as input_data_file:\n",
    "            input_data = input_data_file.read()\n",
    "item_count, capacity, items = parse_items(input_data)\n",
    "print('capacity =', capacity)\n",
    "print(items)\n"
   ]
  },
  {
   "cell_type": "markdown",
   "metadata": {},
   "source": [
    "### Heuristic solution"
   ]
  },
  {
   "cell_type": "code",
   "execution_count": 3,
   "metadata": {},
   "outputs": [
    {
     "name": "stdout",
     "output_type": "stream",
     "text": [
      "(8, [1, 0, 1])\n"
     ]
    }
   ],
   "source": [
    "def algo_heuristic(items,capacity):\n",
    "\n",
    "    weight, value = 0,0\n",
    "    taken = [0]*len(items) \n",
    "\n",
    "    # sort item by descending value density\n",
    "    for item in sorted(items, key = lambda x: x.value/x.weight, reverse=True):\n",
    "        # add item until capacity is reached        \n",
    "        if weight+item.weight <= capacity:\n",
    "            weight += item.weight\n",
    "            value += item.value\n",
    "            taken[item.index] = 1\n",
    "\n",
    "    return value, taken\n",
    "\n",
    "output = algo_heuristic(items,capacity)\n",
    "print(output)"
   ]
  },
  {
   "cell_type": "markdown",
   "metadata": {},
   "source": [
    "## Dynamic Programming"
   ]
  },
  {
   "cell_type": "code",
   "execution_count": 4,
   "metadata": {},
   "outputs": [
    {
     "name": "stdout",
     "output_type": "stream",
     "text": [
      "(11, [1, 1, 0])\n"
     ]
    }
   ],
   "source": [
    "def algo_dp(items,capacity):\n",
    "    \n",
    "    # 1. Initialize table\n",
    "    N = len(items)\n",
    "    M = [[0 for _ in range(N+1)] for _ in range(capacity+1) ]\n",
    "    # 2. Fill table and get value\n",
    "    for i in range(1,N+1):\n",
    "        v_i = items[i-1].value\n",
    "        w_i = items[i-1].weight\n",
    "        for k in range(capacity+1):\n",
    "            if k<w_i:\n",
    "                M[k][i] = M[k][i-1]\n",
    "            else:\n",
    "                M[k][i] = max(M[k][i-1], v_i+M[k-w_i][i-1])\n",
    "    value = M[-1][-1]\n",
    "    # 3. Trace back items\n",
    "    taken = []\n",
    "    for i in reversed(range(1,N+1)):\n",
    "        w_i = items[i-1].weight\n",
    "        if M[k][i]==M[k][i-1]:\n",
    "            taken.insert(0,0)\n",
    "        else:\n",
    "            k = k-w_i\n",
    "            taken.insert(0,1)\n",
    "    \n",
    "    return value, taken\n",
    "\n",
    "output = algo_dp(items,capacity)\n",
    "print(output)"
   ]
  },
  {
   "cell_type": "markdown",
   "metadata": {},
   "source": [
    "### Multi-algorithm solver"
   ]
  },
  {
   "cell_type": "code",
   "execution_count": 5,
   "metadata": {},
   "outputs": [
    {
     "name": "stdout",
     "output_type": "stream",
     "text": [
      "3 items and 9 capacity\n",
      "(8, [1, 0, 1])\n"
     ]
    }
   ],
   "source": [
    "data_dir = '../data/'\n",
    "file_name = 'ks_lecture_dp_1'\n",
    "\n",
    "with open(os.path.join(data_dir, file_name), 'r') as input_data_file:\n",
    "            input_data = input_data_file.read()\n",
    "\n",
    "def solver_testing(input_data, algo='heuristic'):\n",
    "\n",
    "    item_count, capacity, items = parse_items(input_data)\n",
    "    print(f'{item_count} items and {capacity} capacity')\n",
    "    if algo=='heuristic':\n",
    "        value, taken  = algo_heuristic(items,capacity)\n",
    "    elif algo=='dynamic_programming':\n",
    "        value, taken  = algo_dp(items,capacity)\n",
    "    else:\n",
    "        print('algo not implemented')\n",
    "\n",
    "    return value, taken \n",
    "\n",
    "print(solver_testing(input_data, algo='heuristic'))"
   ]
  },
  {
   "cell_type": "code",
   "execution_count": 6,
   "metadata": {},
   "outputs": [],
   "source": [
    "def solver_submission(input_data):\n",
    "\n",
    "    item_count, capacity, items = parse_items(input_data)\n",
    "    print(f'{item_count} items and {capacity} capacity')\n",
    "    if (item_count<=1.e3) and (capacity<3.e6):\n",
    "        optimal_solution = 0\n",
    "        value, taken = algo_heuristic(items,capacity)\n",
    "    else:\n",
    "        optimal_solution = 1\n",
    "        value, taken = algo_dp(items,capacity)\n",
    "\n",
    "    return f'{value} {optimal_solution}\\n{\" \".join(map(str, taken))}'"
   ]
  },
  {
   "cell_type": "code",
   "execution_count": 7,
   "metadata": {},
   "outputs": [
    {
     "data": {
      "text/plain": [
       "['ks_4_0',\n",
       " 'ks_19_0',\n",
       " 'ks_30_0',\n",
       " 'ks_40_0',\n",
       " 'ks_45_0',\n",
       " 'ks_50_0',\n",
       " 'ks_50_1',\n",
       " 'ks_60_0',\n",
       " 'ks_82_0',\n",
       " 'ks_100_0',\n",
       " 'ks_100_1',\n",
       " 'ks_100_2',\n",
       " 'ks_106_0',\n",
       " 'ks_200_0',\n",
       " 'ks_200_1',\n",
       " 'ks_300_0',\n",
       " 'ks_400_0',\n",
       " 'ks_500_0',\n",
       " 'ks_1000_0',\n",
       " 'ks_10000_0',\n",
       " 'ks_lecture_dp_1',\n",
       " 'ks_lecture_dp_2']"
      ]
     },
     "execution_count": 7,
     "metadata": {},
     "output_type": "execute_result"
    }
   ],
   "source": [
    "natsorted(os.listdir(data_dir))"
   ]
  },
  {
   "cell_type": "code",
   "execution_count": 9,
   "metadata": {},
   "outputs": [
    {
     "name": "stdout",
     "output_type": "stream",
     "text": [
      "10000 items and 1000000 capacity\n"
     ]
    }
   ],
   "source": [
    "file_name = 'ks_10000_0'\n",
    "with open(os.path.join(data_dir, file_name), 'r') as input_data_file:\n",
    "    input_data = input_data_file.read()\n",
    "\n",
    "start = time.time()\n",
    "output = solver_testing(input_data, algo='dynamic_programming')\n",
    "elapsed = time.time()-start\n",
    "print(f'elapsed = {elapsed:.3f}')"
   ]
  }
 ],
 "metadata": {
  "interpreter": {
   "hash": "160db3535f28b45a38083beaee6eae7f22fd9984a991fe72b778b9a3fe4ba333"
  },
  "kernelspec": {
   "display_name": "Python 3.6.13 64-bit ('optimization': conda)",
   "language": "python",
   "name": "python3"
  },
  "language_info": {
   "codemirror_mode": {
    "name": "ipython",
    "version": 3
   },
   "file_extension": ".py",
   "mimetype": "text/x-python",
   "name": "python",
   "nbconvert_exporter": "python",
   "pygments_lexer": "ipython3",
   "version": "3.6.13"
  },
  "orig_nbformat": 4
 },
 "nbformat": 4,
 "nbformat_minor": 2
}

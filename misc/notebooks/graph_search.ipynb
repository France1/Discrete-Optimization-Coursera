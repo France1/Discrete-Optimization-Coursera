{
 "cells": [
  {
   "cell_type": "code",
   "execution_count": 115,
   "metadata": {},
   "outputs": [],
   "source": [
    "from collections import namedtuple\n",
    "from collections import deque"
   ]
  },
  {
   "cell_type": "markdown",
   "metadata": {},
   "source": [
    "### Problem 1\n",
    "Find set of candidates which maxize the sum of their values while the sum is a multiple of 5"
   ]
  },
  {
   "cell_type": "code",
   "execution_count": 116,
   "metadata": {},
   "outputs": [],
   "source": [
    "items = (3, 7, 11)\n",
    "n = len(items)"
   ]
  },
  {
   "cell_type": "code",
   "execution_count": 117,
   "metadata": {},
   "outputs": [],
   "source": [
    "Node = namedtuple(\"Node\", ['sum', 'taken'])\n",
    "S = deque()\n",
    "S.append(\n",
    "    [Node(0,None)]\n",
    ")\n",
    "X = []\n",
    "best_branch = None\n",
    "best_sum = 0"
   ]
  },
  {
   "cell_type": "code",
   "execution_count": 118,
   "metadata": {},
   "outputs": [
    {
     "name": "stdout",
     "output_type": "stream",
     "text": [
      "0\n",
      "branching\n",
      "[Node(sum=0, taken=None), Node(sum=3, taken=1)]\n",
      "[Node(sum=0, taken=None), Node(sum=0, taken=0)]\n",
      "\n",
      "1\n",
      "branching\n",
      "[Node(sum=0, taken=None), Node(sum=3, taken=1)]\n",
      "[Node(sum=0, taken=None), Node(sum=0, taken=0), Node(sum=7, taken=1)]\n",
      "[Node(sum=0, taken=None), Node(sum=0, taken=0), Node(sum=0, taken=0)]\n",
      "\n",
      "2\n",
      "branching\n",
      "[Node(sum=0, taken=None), Node(sum=3, taken=1)]\n",
      "[Node(sum=0, taken=None), Node(sum=0, taken=0), Node(sum=7, taken=1)]\n",
      "[Node(sum=0, taken=None), Node(sum=0, taken=0), Node(sum=0, taken=0), Node(sum=11, taken=1)]\n",
      "[Node(sum=0, taken=None), Node(sum=0, taken=0), Node(sum=0, taken=0), Node(sum=0, taken=0)]\n",
      "\n",
      "3\n",
      "evaluating full branch\n",
      "[Node(sum=0, taken=None), Node(sum=3, taken=1)]\n",
      "[Node(sum=0, taken=None), Node(sum=0, taken=0), Node(sum=7, taken=1)]\n",
      "[Node(sum=0, taken=None), Node(sum=0, taken=0), Node(sum=0, taken=0), Node(sum=11, taken=1)]\n",
      "\n",
      "4\n",
      "evaluating full branch\n",
      "[Node(sum=0, taken=None), Node(sum=3, taken=1)]\n",
      "[Node(sum=0, taken=None), Node(sum=0, taken=0), Node(sum=7, taken=1)]\n",
      "\n",
      "5\n",
      "branching\n",
      "[Node(sum=0, taken=None), Node(sum=3, taken=1)]\n",
      "[Node(sum=0, taken=None), Node(sum=0, taken=0), Node(sum=7, taken=1), Node(sum=18, taken=1)]\n",
      "[Node(sum=0, taken=None), Node(sum=0, taken=0), Node(sum=7, taken=1), Node(sum=7, taken=0)]\n",
      "\n",
      "6\n",
      "evaluating full branch\n",
      "[Node(sum=0, taken=None), Node(sum=3, taken=1)]\n",
      "[Node(sum=0, taken=None), Node(sum=0, taken=0), Node(sum=7, taken=1), Node(sum=18, taken=1)]\n",
      "\n",
      "7\n",
      "evaluating full branch\n",
      "[Node(sum=0, taken=None), Node(sum=3, taken=1)]\n",
      "\n",
      "8\n",
      "branching\n",
      "[Node(sum=0, taken=None), Node(sum=3, taken=1), Node(sum=10, taken=1)]\n",
      "[Node(sum=0, taken=None), Node(sum=3, taken=1), Node(sum=3, taken=0)]\n",
      "\n",
      "9\n",
      "branching\n",
      "[Node(sum=0, taken=None), Node(sum=3, taken=1), Node(sum=10, taken=1)]\n",
      "[Node(sum=0, taken=None), Node(sum=3, taken=1), Node(sum=3, taken=0), Node(sum=14, taken=1)]\n",
      "[Node(sum=0, taken=None), Node(sum=3, taken=1), Node(sum=3, taken=0), Node(sum=3, taken=0)]\n",
      "\n",
      "10\n",
      "evaluating full branch\n",
      "[Node(sum=0, taken=None), Node(sum=3, taken=1), Node(sum=10, taken=1)]\n",
      "[Node(sum=0, taken=None), Node(sum=3, taken=1), Node(sum=3, taken=0), Node(sum=14, taken=1)]\n",
      "\n",
      "11\n",
      "evaluating full branch\n",
      "[Node(sum=0, taken=None), Node(sum=3, taken=1), Node(sum=10, taken=1)]\n",
      "\n",
      "12\n",
      "branching\n",
      "[Node(sum=0, taken=None), Node(sum=3, taken=1), Node(sum=10, taken=1), Node(sum=21, taken=1)]\n",
      "[Node(sum=0, taken=None), Node(sum=3, taken=1), Node(sum=10, taken=1), Node(sum=10, taken=0)]\n",
      "\n",
      "13\n",
      "evaluating full branch\n",
      "    found candidate\n",
      "[Node(sum=0, taken=None), Node(sum=3, taken=1), Node(sum=10, taken=1), Node(sum=21, taken=1)]\n",
      "\n",
      "14\n",
      "evaluating full branch\n",
      "\n",
      "\n"
     ]
    }
   ],
   "source": [
    "count = 0\n",
    "\n",
    "while S:\n",
    "    print(count)\n",
    "    head = S.pop()\n",
    "    head_sum = head[-1].sum\n",
    "\n",
    "    if len(head) == n+1:\n",
    "        print('evaluating full branch')\n",
    "        X.append(head)\n",
    "        if (head_sum % 5 == 0) and (head_sum > best_sum): # objective\n",
    "            print('    found candidate')\n",
    "            best_sum = head_sum\n",
    "            best_branch = head  \n",
    "    else:\n",
    "        print('branching')\n",
    "        left = head.copy()\n",
    "        left.append(\n",
    "            Node(head[-1].sum + items[len(head)-1], 1)\n",
    "        )\n",
    "        right = head.copy()\n",
    "        right.append(\n",
    "            Node(head[-1].sum, 0)\n",
    "        )\n",
    "        S.append(left)\n",
    "        S.append(right)\n",
    "    \n",
    "    count += 1\n",
    "\n",
    "    print('\\n'.join(map(str, S)))\n",
    "    print()"
   ]
  },
  {
   "cell_type": "code",
   "execution_count": 119,
   "metadata": {},
   "outputs": [
    {
     "name": "stdout",
     "output_type": "stream",
     "text": [
      "10\n",
      "[1, 1, 0]\n"
     ]
    }
   ],
   "source": [
    "print(best_sum)\n",
    "print([n.taken for n in best_branch][1:])"
   ]
  },
  {
   "cell_type": "markdown",
   "metadata": {},
   "source": [
    "### Problem 2\n",
    "Greedy search knapsack"
   ]
  },
  {
   "cell_type": "code",
   "execution_count": 122,
   "metadata": {},
   "outputs": [
    {
     "data": {
      "text/plain": [
       "1073741824"
      ]
     },
     "execution_count": 122,
     "metadata": {},
     "output_type": "execute_result"
    }
   ],
   "source": [
    "2**30"
   ]
  },
  {
   "cell_type": "code",
   "execution_count": null,
   "metadata": {},
   "outputs": [],
   "source": []
  }
 ],
 "metadata": {
  "interpreter": {
   "hash": "160db3535f28b45a38083beaee6eae7f22fd9984a991fe72b778b9a3fe4ba333"
  },
  "kernelspec": {
   "display_name": "Python 3.6.13 64-bit ('optimization': conda)",
   "language": "python",
   "name": "python3"
  },
  "language_info": {
   "codemirror_mode": {
    "name": "ipython",
    "version": 3
   },
   "file_extension": ".py",
   "mimetype": "text/x-python",
   "name": "python",
   "nbconvert_exporter": "python",
   "pygments_lexer": "ipython3",
   "version": "3.6.13"
  },
  "orig_nbformat": 4
 },
 "nbformat": 4,
 "nbformat_minor": 2
}

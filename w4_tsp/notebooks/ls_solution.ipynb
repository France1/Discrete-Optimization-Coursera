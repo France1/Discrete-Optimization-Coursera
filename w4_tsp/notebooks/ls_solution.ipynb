{
 "cells": [
  {
   "cell_type": "code",
   "execution_count": 3,
   "metadata": {},
   "outputs": [],
   "source": [
    "import sys\n",
    "sys.path.insert(0, '../')\n",
    "import os\n",
    "from scipy.spatial import distance, KDTree, cKDTree\n",
    "import math\n",
    "import numpy as np\n",
    "from solver import parse_items, tsp_nn"
   ]
  },
  {
   "cell_type": "code",
   "execution_count": null,
   "metadata": {},
   "outputs": [],
   "source": [
    "def objective_function(path, distances):\n",
    "    obj = 0\n",
    "    for start, end in zip(path, path[1:]+[path[0]]):\n",
    "        obj += distances[start,end]\n",
    "    return obj"
   ]
  },
  {
   "cell_type": "code",
   "execution_count": 4,
   "metadata": {},
   "outputs": [
    {
     "name": "stdout",
     "output_type": "stream",
     "text": [
      "num_nodes = 8\n"
     ]
    }
   ],
   "source": [
    "data_dir = '../data/'\n",
    "file_name = 'tsp_8_1'\n",
    "\n",
    "with open(os.path.join(data_dir, file_name), 'r') as input_data_file:\n",
    "            input_data = input_data_file.read()\n",
    "num_nodes, coords = parse_items(input_data)\n",
    "print('num_nodes =', num_nodes)"
   ]
  },
  {
   "cell_type": "markdown",
   "metadata": {},
   "source": [
    "### 2-OPT"
   ]
  },
  {
   "cell_type": "code",
   "execution_count": 6,
   "metadata": {},
   "outputs": [],
   "source": [
    "# compute distances\n",
    "condensed_distances = distance.pdist(coords, metric='euclidean')\n",
    "distances = distance.squareform(condensed_distances)"
   ]
  },
  {
   "cell_type": "code",
   "execution_count": 20,
   "metadata": {},
   "outputs": [],
   "source": []
  },
  {
   "cell_type": "code",
   "execution_count": 21,
   "metadata": {},
   "outputs": [
    {
     "data": {
      "text/plain": [
       "4.0"
      ]
     },
     "execution_count": 21,
     "metadata": {},
     "output_type": "execute_result"
    }
   ],
   "source": [
    "objective_function(path_init, distances)"
   ]
  },
  {
   "cell_type": "code",
   "execution_count": null,
   "metadata": {},
   "outputs": [],
   "source": []
  }
 ],
 "metadata": {
  "interpreter": {
   "hash": "160db3535f28b45a38083beaee6eae7f22fd9984a991fe72b778b9a3fe4ba333"
  },
  "kernelspec": {
   "display_name": "Python 3.6.13 64-bit ('optimization': conda)",
   "language": "python",
   "name": "python3"
  },
  "language_info": {
   "codemirror_mode": {
    "name": "ipython",
    "version": 3
   },
   "file_extension": ".py",
   "mimetype": "text/x-python",
   "name": "python",
   "nbconvert_exporter": "python",
   "pygments_lexer": "ipython3",
   "version": "3.6.13"
  },
  "orig_nbformat": 4
 },
 "nbformat": 4,
 "nbformat_minor": 2
}

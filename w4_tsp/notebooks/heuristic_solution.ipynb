{
 "cells": [
  {
   "cell_type": "code",
   "execution_count": 1,
   "metadata": {},
   "outputs": [],
   "source": [
    "import os\n",
    "from scipy.spatial import distance, KDTree, cKDTree\n",
    "import math\n",
    "import numpy as np\n",
    "import time"
   ]
  },
  {
   "cell_type": "code",
   "execution_count": 77,
   "metadata": {},
   "outputs": [
    {
     "name": "stdout",
     "output_type": "stream",
     "text": [
      "num_nodes = 51\n"
     ]
    }
   ],
   "source": [
    "def parse_items(input_data):\n",
    "    \n",
    "    lines = input_data.strip().split('\\n')\n",
    "    items = []\n",
    "    \n",
    "    for i,line in enumerate(lines):\n",
    "        line = line.split()\n",
    "        if i==0: \n",
    "            #1st line is header\n",
    "            num_nodes = int(line[0])\n",
    "        else:\n",
    "            items.append(tuple(map(float, line)))\n",
    "\n",
    "    return num_nodes, items\n",
    "\n",
    "def compute_distance(p1,p2):\n",
    "    return math.hypot(p1[0]-p2[0],p1[1]-p2[1])\n",
    "\n",
    "def compute_objective(path, coords):\n",
    "\n",
    "    path = path+[path[0]]\n",
    "    obj = 0\n",
    "    for start,end in zip(path[:-1],path[1:]):\n",
    "        obj+=compute_distance(coords[start], coords[end])\n",
    "    \n",
    "    return obj\n",
    "\n",
    "data_dir = '../data/'\n",
    "file_name = 'tsp_51_1'\n",
    "\n",
    "with open(os.path.join(data_dir, file_name), 'r') as input_data_file:\n",
    "            input_data = input_data_file.read()\n",
    "num_nodes, coords = parse_items(input_data)\n",
    "print('num_nodes =', num_nodes)"
   ]
  },
  {
   "cell_type": "code",
   "execution_count": 4,
   "metadata": {},
   "outputs": [],
   "source": [
    "# https://stackoverflow.com/questions/13079563/how-does-condensed-distance-matrix-work-pdist\n",
    "\n",
    "# def square_to_condensed(i, j, n):\n",
    "#     assert i != j, \"no diagonal elements in condensed matrix\"\n",
    "#     if i < j:\n",
    "#         i, j = j, i\n",
    "#     return n*j - j*(j+1)//2 + i - 1 - j\n",
    "\n",
    "# def calc_row_idx(k, n):\n",
    "#     return int(math.ceil((1/2.) * (- (-8*k + 4 *n**2 -4*n - 7)**0.5 + 2*n -1) - 1))\n",
    "\n",
    "# def elem_in_i_rows(i, n):\n",
    "#     return i * (n - 1 - i) + (i*(i + 1))//2\n",
    "\n",
    "# def calc_col_idx(k, i, n):\n",
    "#     return int(n - elem_in_i_rows(i + 1, n) + k)\n",
    "\n",
    "# def condensed_to_square(k, n):\n",
    "#     i = calc_row_idx(k, n)\n",
    "#     j = calc_col_idx(k, i, n)\n",
    "#     return i, j\n"
   ]
  },
  {
   "cell_type": "markdown",
   "metadata": {},
   "source": [
    "### Nearest Insertion"
   ]
  },
  {
   "cell_type": "code",
   "execution_count": 68,
   "metadata": {},
   "outputs": [],
   "source": [
    "# # compute distances\n",
    "# condensed_distances = distance.pdist(coords, metric='euclidean')\n",
    "# distances = distance.squareform(condensed_distances)"
   ]
  },
  {
   "cell_type": "code",
   "execution_count": 69,
   "metadata": {},
   "outputs": [],
   "source": [
    "# # initialize\n",
    "# n_nodes = len(coords)\n",
    "# nodes = list(range(n_nodes))\n",
    "\n",
    "# node = 0\n",
    "# nodes.remove(node)\n",
    "# nearest = np.argsort(distances[node,:])[1]\n",
    "# nodes.remove(nearest)\n",
    "# path = [node, nearest] "
   ]
  },
  {
   "cell_type": "code",
   "execution_count": 70,
   "metadata": {},
   "outputs": [],
   "source": [
    "# while nodes:\n",
    "#     # select nearest node\n",
    "#     nearest, min_dist = None, math.inf\n",
    "#     for n in nodes:\n",
    "#         for i in path:\n",
    "#             d = distances[i,n]\n",
    "#             if d < min_dist:\n",
    "#                 nearest, min_dist = n, d\n",
    "#     nodes.remove(nearest)\n",
    "#     # select insertion edge\n",
    "#     replaced, min_cost = (None, None), math.inf\n",
    "#     for i,j in zip(path, path[1:]+[path[0]]):\n",
    "#         cost = distances[i,nearest] + distances[nearest,j] - distances[i,j]\n",
    "#         if cost < min_cost:\n",
    "#             replaced, min_cost = (i,j), cost\n",
    "#     path.insert(replaced[0]+1, nearest)"
   ]
  },
  {
   "cell_type": "markdown",
   "metadata": {},
   "source": [
    "### Nearest Neighboor"
   ]
  },
  {
   "cell_type": "code",
   "execution_count": 74,
   "metadata": {},
   "outputs": [],
   "source": [
    "def tsp_nn(coords, num_nodes):\n",
    "\n",
    "    # initialize\n",
    "    coords = np.array(coords)\n",
    "    nodes = list(range(num_nodes))\n",
    "    visited = np.zeros(num_nodes,dtype=bool)\n",
    "    tree = cKDTree(np.array(coords[nodes]))\n",
    "    # startting node\n",
    "    nearest = 0\n",
    "    visited[nearest] = True\n",
    "    path = [nearest]\n",
    "    # visit nearest neighbours \n",
    "    while not visited.all():\n",
    "        for k in range(2,num_nodes+1):\n",
    "            dd, ii = tree.query(coords[nearest], k=k)\n",
    "            # print(k, nearest, ii, dd, visited[ii])\n",
    "            if not visited[ii].all():\n",
    "                for n in ii:\n",
    "                    if not visited[n]:\n",
    "                        visited[n] = True\n",
    "                        nearest = n\n",
    "                        path += [nearest]\n",
    "                        # print(f'>>>>> added {nearest} to path')\n",
    "                        break\n",
    "                break\n",
    "    return path"
   ]
  },
  {
   "cell_type": "code",
   "execution_count": 78,
   "metadata": {},
   "outputs": [],
   "source": [
    "path = tsp_nn(coords, num_nodes)\n",
    "obj = compute_objective(path,coords)\n",
    "\n",
    "results = f'{obj} {0}\\n{\" \".join(map(str, path))}'\n",
    "with open('solution', 'w') as f:\n",
    "    f.write(results)"
   ]
  },
  {
   "cell_type": "code",
   "execution_count": 76,
   "metadata": {},
   "outputs": [],
   "source": [
    "def solver_submission(input_data):\n",
    "\n",
    "    num_nodes, coords = parse_items(input_data)\n",
    "    path = tsp_nn(coords, num_nodes)\n",
    "    obj = compute_objective(path,coords)\n",
    "\n",
    "    return f'{obj} {0}\\n{\" \".join(map(str, path))}'\n",
    "\n",
    "data_dir = '../data/'\n",
    "file_name = 'tsp_51_1'\n",
    "\n",
    "with open(os.path.join(data_dir, file_name), 'r') as input_data_file:\n",
    "            input_data = input_data_file.read()\n",
    "with open('solution', 'w') as f:\n",
    "    f.write(solver_submission(input_data))\n",
    "\n",
    "\n",
    "    "
   ]
  },
  {
   "cell_type": "code",
   "execution_count": null,
   "metadata": {},
   "outputs": [],
   "source": []
  }
 ],
 "metadata": {
  "interpreter": {
   "hash": "160db3535f28b45a38083beaee6eae7f22fd9984a991fe72b778b9a3fe4ba333"
  },
  "kernelspec": {
   "display_name": "Python 3.6.13 64-bit ('optimization': conda)",
   "language": "python",
   "name": "python3"
  },
  "language_info": {
   "codemirror_mode": {
    "name": "ipython",
    "version": 3
   },
   "file_extension": ".py",
   "mimetype": "text/x-python",
   "name": "python",
   "nbconvert_exporter": "python",
   "pygments_lexer": "ipython3",
   "version": "3.6.13"
  },
  "orig_nbformat": 4
 },
 "nbformat": 4,
 "nbformat_minor": 2
}
